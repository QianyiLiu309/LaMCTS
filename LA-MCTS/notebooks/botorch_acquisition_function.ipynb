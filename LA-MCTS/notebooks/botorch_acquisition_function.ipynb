{
 "cells": [
  {
   "cell_type": "code",
   "execution_count": 13,
   "id": "425e8e70-a2c1-4cd7-872d-be6d444cddca",
   "metadata": {},
   "outputs": [],
   "source": [
    "import torch\n",
    "\n",
    "from botorch.fit import fit_gpytorch_mll\n",
    "from botorch.models import SingleTaskGP\n",
    "from botorch.test_functions import Hartmann\n",
    "from gpytorch.mlls import ExactMarginalLogLikelihood\n",
    "\n",
    "neg_hartmann6 = Hartmann(dim=6, negate=True)"
   ]
  },
  {
   "cell_type": "code",
   "execution_count": 14,
   "id": "12bc5278-9a30-4844-a007-fb5d166442f8",
   "metadata": {},
   "outputs": [
    {
     "data": {
      "text/plain": [
       "torch.Size([10, 6])"
      ]
     },
     "execution_count": 14,
     "metadata": {},
     "output_type": "execute_result"
    }
   ],
   "source": [
    "train_x = torch.rand(10, 6)\n",
    "train_x.shape"
   ]
  },
  {
   "cell_type": "code",
   "execution_count": 15,
   "id": "4ae2bc74-690b-413b-9414-6ddef89a57f2",
   "metadata": {},
   "outputs": [
    {
     "data": {
      "text/plain": [
       "torch.Size([10, 1])"
      ]
     },
     "execution_count": 15,
     "metadata": {},
     "output_type": "execute_result"
    }
   ],
   "source": [
    "train_obj = neg_hartmann6(train_x).unsqueeze(-1)\n",
    "train_obj.shape"
   ]
  },
  {
   "cell_type": "code",
   "execution_count": 16,
   "id": "4238726c-03e7-4ae2-bbf9-196de01a6cd5",
   "metadata": {},
   "outputs": [
    {
     "name": "stderr",
     "output_type": "stream",
     "text": [
      "/Users/liuqianyi/miniconda3/envs/r244/lib/python3.10/site-packages/botorch/models/gp_regression.py:161: UserWarning: The model inputs are of type torch.float32. It is strongly recommended to use double precision in BoTorch, as this improves both precision and stability and can help avoid numerical errors. See https://github.com/pytorch/botorch/discussions/1444\n",
      "  self._validate_tensor_args(X=transformed_X, Y=train_Y, Yvar=train_Yvar)\n",
      "/Users/liuqianyi/miniconda3/envs/r244/lib/python3.10/site-packages/botorch/models/utils/assorted.py:202: InputDataWarning: Input data is not standardized (mean = tensor([0.2868]), std = tensor([0.2775])). Please consider scaling the input to zero mean and unit variance.\n",
      "  warnings.warn(msg, InputDataWarning)\n"
     ]
    }
   ],
   "source": [
    "model = SingleTaskGP(train_X=train_x, train_Y=train_obj)\n",
    "mll = ExactMarginalLogLikelihood(model.likelihood, model)\n",
    "fit_gpytorch_mll(mll);"
   ]
  },
  {
   "cell_type": "code",
   "execution_count": 6,
   "id": "73a1de0e-5a3e-4686-a1d0-67d446cbfa0f",
   "metadata": {},
   "outputs": [
    {
     "data": {
      "text/plain": [
       "tensor(0.9895)"
      ]
     },
     "execution_count": 6,
     "metadata": {},
     "output_type": "execute_result"
    }
   ],
   "source": [
    "from botorch.acquisition import ExpectedImprovement\n",
    "\n",
    "best_value = train_obj.max()\n",
    "best_value"
   ]
  },
  {
   "cell_type": "code",
   "execution_count": 7,
   "id": "aae72d45-fccd-41f7-b0a7-b0c63ed02bb2",
   "metadata": {},
   "outputs": [],
   "source": [
    "EI = ExpectedImprovement(model=model, best_f=best_value)"
   ]
  },
  {
   "cell_type": "code",
   "execution_count": 8,
   "id": "8ec66d7b-bc27-4a50-a11e-5da5c96de8ef",
   "metadata": {},
   "outputs": [],
   "source": [
    "from botorch.optim import optimize_acqf\n",
    "\n",
    "new_point_analytic, _ = optimize_acqf(\n",
    "    acq_function=EI, \n",
    "    bounds=torch.tensor([[0.0] * 6, [1.0] * 6]), \n",
    "    q=1, \n",
    "    num_restarts=20, \n",
    "    raw_samples=100,\n",
    "    options={},\n",
    ")"
   ]
  },
  {
   "cell_type": "code",
   "execution_count": 9,
   "id": "48695e63-101f-41cd-9f29-d95736a6ddca",
   "metadata": {},
   "outputs": [
    {
     "data": {
      "text/plain": [
       "tensor([[0.3248, 0.2103, 0.7305, 0.3289, 0.4148, 0.5686]])"
      ]
     },
     "execution_count": 9,
     "metadata": {},
     "output_type": "execute_result"
    }
   ],
   "source": [
    "new_point_analytic"
   ]
  },
  {
   "cell_type": "code",
   "execution_count": 17,
   "id": "d222873f-406e-470d-8728-f58efb7bf51a",
   "metadata": {},
   "outputs": [],
   "source": [
    "from botorch.acquisition import qExpectedImprovement\n",
    "from botorch.sampling import SobolQMCNormalSampler\n",
    "\n",
    "sampler = SobolQMCNormalSampler(sample_shape=torch.Size([512]), seed=0)\n",
    "MC_EI = qExpectedImprovement(model, best_f=best_value, sampler=sampler)\n",
    "torch.manual_seed(seed=0)\n",
    "new_point_mc, _ = optimize_acqf(\n",
    "    acq_function=MC_EI,\n",
    "    bounds=torch.tensor([[0.0] * 6, [1.0] * 6]),\n",
    "    q=1,\n",
    "    num_restarts=20,\n",
    "    raw_samples=100,\n",
    "    options={},\n",
    ")"
   ]
  },
  {
   "cell_type": "code",
   "execution_count": 38,
   "id": "9a36cab2-80fe-49c2-8ffa-464012a0c53b",
   "metadata": {},
   "outputs": [],
   "source": [
    "posterior = model.posterior(train_x)"
   ]
  },
  {
   "cell_type": "code",
   "execution_count": 39,
   "id": "e666d0ae-bcb2-498b-9439-e0ab9969c627",
   "metadata": {},
   "outputs": [
    {
     "data": {
      "text/plain": [
       "tensor([[0.2196],\n",
       "        [0.1021],\n",
       "        [0.2108],\n",
       "        [0.0867],\n",
       "        [0.1958],\n",
       "        [0.0951],\n",
       "        [0.0856],\n",
       "        [0.1180],\n",
       "        [0.3337],\n",
       "        [0.1201]], grad_fn=<UnsqueezeBackward0>)"
      ]
     },
     "execution_count": 39,
     "metadata": {},
     "output_type": "execute_result"
    }
   ],
   "source": [
    "posterior.mean"
   ]
  },
  {
   "cell_type": "code",
   "execution_count": 33,
   "id": "7df44644-2307-4868-8c2b-0f43bf229b74",
   "metadata": {},
   "outputs": [
    {
     "data": {
      "text/plain": [
       "MultivariateNormal(loc: torch.Size([10]))"
      ]
     },
     "execution_count": 33,
     "metadata": {},
     "output_type": "execute_result"
    }
   ],
   "source": [
    "posterior.distribution"
   ]
  },
  {
   "cell_type": "code",
   "execution_count": 40,
   "id": "4d1ce757-e5d1-4ccd-8177-e4c95f5d417b",
   "metadata": {},
   "outputs": [],
   "source": [
    "samples = sampler(posterior)"
   ]
  },
  {
   "cell_type": "code",
   "execution_count": 43,
   "id": "e3b39126-d5be-40c0-bb42-26f3fdba33dd",
   "metadata": {},
   "outputs": [
    {
     "data": {
      "text/plain": [
       "torch.Size([512, 10, 1])"
      ]
     },
     "execution_count": 43,
     "metadata": {},
     "output_type": "execute_result"
    }
   ],
   "source": [
    "samples.shape # we are making multiple samples of functions, these functions are represented as values at these 512 data points"
   ]
  },
  {
   "cell_type": "code",
   "execution_count": null,
   "id": "5307e082-804e-4607-a17f-5a0189c511a1",
   "metadata": {},
   "outputs": [],
   "source": []
  },
  {
   "cell_type": "code",
   "execution_count": 12,
   "id": "848dfa2c-b3ab-4381-b8da-561530ee0ae1",
   "metadata": {},
   "outputs": [
    {
     "data": {
      "text/plain": [
       "tensor(0.0004)"
      ]
     },
     "execution_count": 12,
     "metadata": {},
     "output_type": "execute_result"
    }
   ],
   "source": [
    "torch.norm(new_point_mc - new_point_analytic)"
   ]
  },
  {
   "cell_type": "code",
   "execution_count": null,
   "id": "7b9fea4d-da3c-4caa-9097-3a3895c8e542",
   "metadata": {},
   "outputs": [],
   "source": []
  }
 ],
 "metadata": {
  "kernelspec": {
   "display_name": "Python 3 (ipykernel)",
   "language": "python",
   "name": "python3"
  },
  "language_info": {
   "codemirror_mode": {
    "name": "ipython",
    "version": 3
   },
   "file_extension": ".py",
   "mimetype": "text/x-python",
   "name": "python",
   "nbconvert_exporter": "python",
   "pygments_lexer": "ipython3",
   "version": "3.10.13"
  }
 },
 "nbformat": 4,
 "nbformat_minor": 5
}
