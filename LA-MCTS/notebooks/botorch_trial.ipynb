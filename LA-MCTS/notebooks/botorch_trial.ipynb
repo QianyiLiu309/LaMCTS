{
 "cells": [
  {
   "cell_type": "code",
   "execution_count": 227,
   "id": "6ea8e209-5fe1-47bb-9e29-923e3a31cd38",
   "metadata": {},
   "outputs": [
    {
     "name": "stdout",
     "output_type": "stream",
     "text": [
      "The autoreload extension is already loaded. To reload it, use:\n",
      "  %reload_ext autoreload\n"
     ]
    }
   ],
   "source": [
    "import math\n",
    "import torch\n",
    "import gpytorch\n",
    "from matplotlib import pyplot as plt\n",
    "\n",
    "%matplotlib inline\n",
    "%load_ext autoreload\n",
    "%autoreload 2"
   ]
  },
  {
   "cell_type": "code",
   "execution_count": 228,
   "id": "983e56d6-3d9f-46cd-ad22-48f5a28c037a",
   "metadata": {},
   "outputs": [],
   "source": [
    "# train_X = np.random.uniform(-1, 1, (10, 15))"
   ]
  },
  {
   "cell_type": "code",
   "execution_count": 229,
   "id": "42386029-658f-475b-a0f0-a185aae41f93",
   "metadata": {},
   "outputs": [],
   "source": [
    "# from functions.functions import *\n",
    "\n",
    "# f = Ackley(dims=15)"
   ]
  },
  {
   "cell_type": "code",
   "execution_count": 230,
   "id": "2b00f226-2401-4d6f-986e-98cda748591c",
   "metadata": {},
   "outputs": [],
   "source": [
    "# train_Y = np.array([f(x) for x in train_X])\n",
    "# train_Y.shape"
   ]
  },
  {
   "cell_type": "code",
   "execution_count": 231,
   "id": "f9295ac7-6bd0-4a3b-bcdd-4c65b57e9924",
   "metadata": {},
   "outputs": [],
   "source": [
    "# train_Y"
   ]
  },
  {
   "cell_type": "code",
   "execution_count": 234,
   "id": "4c25d5a1-805c-4819-8071-d05f54470a9a",
   "metadata": {},
   "outputs": [],
   "source": [
    "# test_X = torch.randn(5, 15)\n",
    "# test_X.shape"
   ]
  },
  {
   "cell_type": "code",
   "execution_count": 232,
   "id": "1dc24a10-31b2-47b3-a0a6-6d95b72cc82f",
   "metadata": {},
   "outputs": [],
   "source": [
    "# train_X = torch.from_numpy(train_X)\n",
    "# train_Y = torch.from_numpy(train_Y)\n",
    "# train_Y = train_Y + torch.randn(train_Y.size()) * math.sqrt(0.04)\n",
    "# train_X.shape, train_Y.shape"
   ]
  },
  {
   "cell_type": "code",
   "execution_count": 269,
   "id": "a782f489-0448-4e62-8728-4c1f5555fd9e",
   "metadata": {},
   "outputs": [
    {
     "data": {
      "text/plain": [
       "(torch.Size([5, 1]), torch.Size([5]))"
      ]
     },
     "execution_count": 269,
     "metadata": {},
     "output_type": "execute_result"
    }
   ],
   "source": [
    "# Training data is 100 points in [0,1] inclusive regularly spaced\n",
    "# train_X = torch.linspace(0, 1, 100)\n",
    "train_X = torch.rand(5)\n",
    "# True function is sin(2*pi*x) with Gaussian noise\n",
    "train_Y = torch.sin(train_X * (2 * math.pi)) + torch.randn(train_X.size()) * math.sqrt(0.04)\n",
    "\n",
    "train_X = train_X.unsqueeze(-1)\n",
    "train_X.shape, train_Y.shape"
   ]
  },
  {
   "cell_type": "code",
   "execution_count": 270,
   "id": "a433a059-8d9c-49ff-95de-e6304e7ebbb4",
   "metadata": {},
   "outputs": [],
   "source": [
    "test_X = torch.linspace(0, 1, 20).unsqueeze(-1)"
   ]
  },
  {
   "cell_type": "code",
   "execution_count": 271,
   "id": "74ea7047-c0e2-4352-8750-e8302ab55c9c",
   "metadata": {},
   "outputs": [],
   "source": [
    "# train_Yvar = torch.full_like(train_Y, 0.1**2)"
   ]
  },
  {
   "cell_type": "code",
   "execution_count": 272,
   "id": "64733839-bd32-4677-bdb4-c3f5137c4993",
   "metadata": {},
   "outputs": [],
   "source": [
    "# observed_noise_model = SingleTaskGP(\n",
    "#     train_X, train_Y, train_Yvar\n",
    "# )"
   ]
  },
  {
   "cell_type": "code",
   "execution_count": 273,
   "id": "d800c029-346d-4734-aad3-e9543f654400",
   "metadata": {},
   "outputs": [],
   "source": [
    "# predict = observed_noise_model.forward(test_X)"
   ]
  },
  {
   "cell_type": "code",
   "execution_count": 274,
   "id": "dcfcc70a-35f9-4501-ab4b-b7b850780193",
   "metadata": {},
   "outputs": [],
   "source": [
    "# predict.mean"
   ]
  },
  {
   "cell_type": "code",
   "execution_count": 275,
   "id": "2b3efacb-c287-42bd-8fa4-bc654373de60",
   "metadata": {},
   "outputs": [],
   "source": [
    "# predict.variance"
   ]
  },
  {
   "cell_type": "code",
   "execution_count": 276,
   "id": "1aa592b3-839b-41a9-b049-3aa2d81f0e93",
   "metadata": {},
   "outputs": [],
   "source": [
    "from gpytorch.kernels import MaternKernel"
   ]
  },
  {
   "cell_type": "code",
   "execution_count": 277,
   "id": "a086e253-a9ff-400d-acaa-325cb308e057",
   "metadata": {},
   "outputs": [],
   "source": [
    "kernel = MaternKernel(nu=2.5)"
   ]
  },
  {
   "cell_type": "code",
   "execution_count": 278,
   "id": "f379f0c4-e48b-49d5-8fb7-e98181047e95",
   "metadata": {},
   "outputs": [],
   "source": [
    "# model = SingleTaskGP(\n",
    "#     train_X, train_Y, train_Yvar, covar_module=kernel\n",
    "# )"
   ]
  },
  {
   "cell_type": "code",
   "execution_count": 279,
   "id": "0afedad4-220d-4cfb-810d-affebf5b2ea0",
   "metadata": {},
   "outputs": [],
   "source": [
    "class ExactGPModel(gpytorch.models.ExactGP):\n",
    "    def __init__(self, train_x, train_y, likelihood):\n",
    "        super(ExactGPModel, self).__init__(train_x, train_y, likelihood)\n",
    "        self.mean_module = gpytorch.means.ConstantMean()\n",
    "        self.covar_module = gpytorch.kernels.MaternKernel(nu=2.5)\n",
    "\n",
    "    def forward(self, x):\n",
    "        mean_x = self.mean_module(x)\n",
    "        covar_x = self.covar_module(x)\n",
    "        return gpytorch.distributions.MultivariateNormal(mean_x, covar_x)\n",
    "\n",
    "likelihood = gpytorch.likelihoods.GaussianLikelihood()\n",
    "model = ExactGPModel(train_X, train_Y, likelihood)"
   ]
  },
  {
   "cell_type": "code",
   "execution_count": 280,
   "id": "f2b83504-e8da-4142-8b34-f3ba1a3bd43d",
   "metadata": {},
   "outputs": [],
   "source": [
    "import os\n",
    "smoke_test = ('CI' in os.environ)\n",
    "training_iter = 2 if smoke_test else 50\n",
    "\n",
    "model.train()\n",
    "likelihood.train()\n",
    "\n",
    "optimizer = torch.optim.Adam(model.parameters(), lr=0.1)"
   ]
  },
  {
   "cell_type": "code",
   "execution_count": 281,
   "id": "c4de9eb8-2405-47f8-8dca-4b937a92b8ac",
   "metadata": {},
   "outputs": [
    {
     "data": {
      "text/plain": [
       "ExactGPModel(\n",
       "  (likelihood): GaussianLikelihood(\n",
       "    (noise_covar): HomoskedasticNoise(\n",
       "      (raw_noise_constraint): GreaterThan(1.000E-04)\n",
       "    )\n",
       "  )\n",
       "  (mean_module): ConstantMean()\n",
       "  (covar_module): MaternKernel(\n",
       "    (raw_lengthscale_constraint): Positive()\n",
       "  )\n",
       ")"
      ]
     },
     "execution_count": 281,
     "metadata": {},
     "output_type": "execute_result"
    }
   ],
   "source": [
    "model"
   ]
  },
  {
   "cell_type": "code",
   "execution_count": 282,
   "id": "5b6df4bb-5aef-4ee1-b112-42344ddf3cfb",
   "metadata": {},
   "outputs": [
    {
     "name": "stdout",
     "output_type": "stream",
     "text": [
      "noise_covar.raw_noise tensor([0.])\n",
      "noise_covar.raw_noise_constraint.lower_bound tensor(1.0000e-04)\n",
      "noise_covar.raw_noise_constraint.upper_bound tensor(inf)\n"
     ]
    }
   ],
   "source": [
    "for item, value in likelihood.state_dict().items():\n",
    "    print(item, value)"
   ]
  },
  {
   "cell_type": "code",
   "execution_count": 283,
   "id": "7360bcc8-4299-44db-8b2d-21a03a8ad1f3",
   "metadata": {},
   "outputs": [],
   "source": [
    "# why does likelihood have parameters to train? "
   ]
  },
  {
   "cell_type": "code",
   "execution_count": 284,
   "id": "e8b461b3-b6ae-411b-84a6-f590379532fc",
   "metadata": {},
   "outputs": [],
   "source": [
    "mll = gpytorch.mlls.ExactMarginalLogLikelihood(likelihood, model)"
   ]
  },
  {
   "cell_type": "code",
   "execution_count": 285,
   "id": "a5f6d853-1961-4367-a32c-ba69dbac279d",
   "metadata": {},
   "outputs": [
    {
     "data": {
      "text/plain": [
       "torch.Size([5, 1])"
      ]
     },
     "execution_count": 285,
     "metadata": {},
     "output_type": "execute_result"
    }
   ],
   "source": [
    "train_X.shape"
   ]
  },
  {
   "cell_type": "code",
   "execution_count": 286,
   "id": "930a5ddc-9ef7-4c39-a634-c9bcfca8ce57",
   "metadata": {},
   "outputs": [
    {
     "data": {
      "text/plain": [
       "ExactMarginalLogLikelihood(\n",
       "  (likelihood): GaussianLikelihood(\n",
       "    (noise_covar): HomoskedasticNoise(\n",
       "      (raw_noise_constraint): GreaterThan(1.000E-04)\n",
       "    )\n",
       "  )\n",
       "  (model): ExactGPModel(\n",
       "    (likelihood): GaussianLikelihood(\n",
       "      (noise_covar): HomoskedasticNoise(\n",
       "        (raw_noise_constraint): GreaterThan(1.000E-04)\n",
       "      )\n",
       "    )\n",
       "    (mean_module): ConstantMean()\n",
       "    (covar_module): MaternKernel(\n",
       "      (raw_lengthscale_constraint): Positive()\n",
       "    )\n",
       "  )\n",
       ")"
      ]
     },
     "execution_count": 286,
     "metadata": {},
     "output_type": "execute_result"
    }
   ],
   "source": [
    "from botorch import fit_gpytorch_mll\n",
    "fit_gpytorch_mll(mll)\n"
   ]
  },
  {
   "cell_type": "code",
   "execution_count": 287,
   "id": "6bf274c6-6404-4728-8a97-1213ef40b84e",
   "metadata": {},
   "outputs": [],
   "source": [
    "# for i in range(training_iter):\n",
    "#     optimizer.zero_grad()\n",
    "#     output = model(train_X)\n",
    "#     loss = -mll(output, train_Y)\n",
    "#     loss.backward()\n",
    "#     print('Iter %d/%d - Loss: %.3f   lengthscale: %.3f   noise: %.3f' % (\n",
    "#         i + 1, training_iter, loss.item(),\n",
    "#         model.covar_module.lengthscale.item(),\n",
    "#         model.likelihood.noise.item()\n",
    "#     ))\n",
    "#     optimizer.step()"
   ]
  },
  {
   "cell_type": "code",
   "execution_count": 288,
   "id": "725c8548-3984-48c7-bb8e-40ce2c7ce0aa",
   "metadata": {},
   "outputs": [
    {
     "data": {
      "text/plain": [
       "GaussianLikelihood(\n",
       "  (noise_covar): HomoskedasticNoise(\n",
       "    (raw_noise_constraint): GreaterThan(1.000E-04)\n",
       "  )\n",
       ")"
      ]
     },
     "execution_count": 288,
     "metadata": {},
     "output_type": "execute_result"
    }
   ],
   "source": [
    "model.eval()\n",
    "likelihood.eval()"
   ]
  },
  {
   "cell_type": "code",
   "execution_count": 289,
   "id": "b23b98be-0b00-4510-be93-6065bab41a1a",
   "metadata": {},
   "outputs": [
    {
     "data": {
      "text/plain": [
       "tensor([[0.0000],\n",
       "        [0.0526],\n",
       "        [0.1053],\n",
       "        [0.1579],\n",
       "        [0.2105],\n",
       "        [0.2632],\n",
       "        [0.3158],\n",
       "        [0.3684],\n",
       "        [0.4211],\n",
       "        [0.4737],\n",
       "        [0.5263],\n",
       "        [0.5789],\n",
       "        [0.6316],\n",
       "        [0.6842],\n",
       "        [0.7368],\n",
       "        [0.7895],\n",
       "        [0.8421],\n",
       "        [0.8947],\n",
       "        [0.9474],\n",
       "        [1.0000]])"
      ]
     },
     "execution_count": 289,
     "metadata": {},
     "output_type": "execute_result"
    }
   ],
   "source": [
    "test_X"
   ]
  },
  {
   "cell_type": "code",
   "execution_count": 290,
   "id": "edd781d9-a300-408f-baba-0e2e6352f8ea",
   "metadata": {},
   "outputs": [],
   "source": [
    "f_preds = model(test_X) # posterior over the function we are trying to model\n",
    "y_preds = likelihood(model(test_X))"
   ]
  },
  {
   "cell_type": "code",
   "execution_count": 291,
   "id": "af8341dc-6fbc-4ecd-b580-5608d6056763",
   "metadata": {},
   "outputs": [
    {
     "data": {
      "text/plain": [
       "(MultivariateNormal(loc: torch.Size([20])),\n",
       " MultivariateNormal(loc: torch.Size([20])))"
      ]
     },
     "execution_count": 291,
     "metadata": {},
     "output_type": "execute_result"
    }
   ],
   "source": [
    "f_preds, y_preds"
   ]
  },
  {
   "cell_type": "code",
   "execution_count": 292,
   "id": "267e47c1-15f9-4f79-a172-d88888d37338",
   "metadata": {},
   "outputs": [
    {
     "data": {
      "text/plain": [
       "tensor([ 0.2390,  0.3417,  0.4544,  0.5707,  0.6806,  0.7700,  0.8218,  0.8168,\n",
       "         0.7367,  0.5675,  0.3140,  0.0022, -0.3319, -0.6501, -0.9169, -1.1062,\n",
       "        -1.2110, -1.2420, -1.2167, -1.1534], grad_fn=<ViewBackward0>)"
      ]
     },
     "execution_count": 292,
     "metadata": {},
     "output_type": "execute_result"
    }
   ],
   "source": [
    "f_mean = f_preds.mean\n",
    "f_mean"
   ]
  },
  {
   "cell_type": "code",
   "execution_count": 293,
   "id": "a88d43d9-9b38-44aa-9f70-fab563fe5081",
   "metadata": {},
   "outputs": [
    {
     "data": {
      "text/plain": [
       "tensor([0.0396, 0.0054, 0.0104, 0.0253, 0.0260, 0.0137, 0.0043, 0.0026, 0.0019,\n",
       "        0.0105, 0.0339, 0.0567, 0.0584, 0.0352, 0.0081, 0.0113, 0.0659, 0.1674,\n",
       "        0.2969, 0.4339], grad_fn=<ExpandBackward0>)"
      ]
     },
     "execution_count": 293,
     "metadata": {},
     "output_type": "execute_result"
    }
   ],
   "source": [
    "f_preds.variance"
   ]
  },
  {
   "cell_type": "code",
   "execution_count": 294,
   "id": "c150af8d-7c79-4e95-9906-f9af533c5cd9",
   "metadata": {},
   "outputs": [],
   "source": [
    "y_preds = likelihood(model(test_X))"
   ]
  },
  {
   "cell_type": "code",
   "execution_count": 295,
   "id": "dd2bb80b-76cc-417e-b90d-875eff657a29",
   "metadata": {},
   "outputs": [
    {
     "data": {
      "text/plain": [
       "tensor([ 0.2390,  0.3417,  0.4544,  0.5707,  0.6806,  0.7700,  0.8218,  0.8168,\n",
       "         0.7367,  0.5675,  0.3140,  0.0022, -0.3319, -0.6501, -0.9169, -1.1062,\n",
       "        -1.2110, -1.2420, -1.2167, -1.1534], grad_fn=<ViewBackward0>)"
      ]
     },
     "execution_count": 295,
     "metadata": {},
     "output_type": "execute_result"
    }
   ],
   "source": [
    "y_preds.mean"
   ]
  },
  {
   "cell_type": "code",
   "execution_count": 296,
   "id": "f8ac3795-216f-4953-b666-3470cc67892e",
   "metadata": {},
   "outputs": [],
   "source": [
    "observed_pred = likelihood(model(test_X))"
   ]
  },
  {
   "cell_type": "code",
   "execution_count": 297,
   "id": "c108d1d7-6894-4b88-997c-387f96f7e824",
   "metadata": {},
   "outputs": [
    {
     "data": {
      "text/plain": [
       "tensor([ 0.2390,  0.3417,  0.4544,  0.5707,  0.6806,  0.7700,  0.8218,  0.8168,\n",
       "         0.7367,  0.5675,  0.3140,  0.0022, -0.3319, -0.6501, -0.9169, -1.1062,\n",
       "        -1.2110, -1.2420, -1.2167, -1.1534], grad_fn=<ViewBackward0>)"
      ]
     },
     "execution_count": 297,
     "metadata": {},
     "output_type": "execute_result"
    }
   ],
   "source": [
    "observed_pred.mean"
   ]
  },
  {
   "cell_type": "code",
   "execution_count": 298,
   "id": "77f0a5ef-8ae3-4565-9502-e63aa08c6561",
   "metadata": {},
   "outputs": [
    {
     "data": {
      "text/plain": [
       "tensor([0.0435, 0.0094, 0.0144, 0.0292, 0.0299, 0.0176, 0.0083, 0.0065, 0.0058,\n",
       "        0.0144, 0.0378, 0.0606, 0.0624, 0.0391, 0.0120, 0.0153, 0.0698, 0.1713,\n",
       "        0.3009, 0.4379], grad_fn=<ExpandBackward0>)"
      ]
     },
     "execution_count": 298,
     "metadata": {},
     "output_type": "execute_result"
    }
   ],
   "source": [
    "observed_pred.variance"
   ]
  },
  {
   "cell_type": "code",
   "execution_count": 299,
   "id": "46223c7b-3b57-4b30-a9ca-dcab5ed36d9e",
   "metadata": {},
   "outputs": [],
   "source": [
    "f_mean = f_preds.mean\n",
    "f_var = f_preds.variance\n",
    "f_covar = f_preds.covariance_matrix\n",
    "f_samples = f_preds.sample(sample_shape=torch.Size([1000,]))"
   ]
  },
  {
   "cell_type": "code",
   "execution_count": 300,
   "id": "f4326bbf-e12d-46f0-aa1f-3a4c439f7b5f",
   "metadata": {},
   "outputs": [
    {
     "data": {
      "text/plain": [
       "torch.Size([20, 20])"
      ]
     },
     "execution_count": 300,
     "metadata": {},
     "output_type": "execute_result"
    }
   ],
   "source": [
    "f_covar.shape"
   ]
  },
  {
   "cell_type": "code",
   "execution_count": 301,
   "id": "66896b38-7924-4966-b3e8-a136ea88f675",
   "metadata": {},
   "outputs": [
    {
     "data": {
      "text/plain": [
       "tensor([[ 0.1533,  0.2540,  0.3875,  ..., -1.2574, -1.3557, -1.4721],\n",
       "        [ 0.1965,  0.3522,  0.5247,  ..., -1.2467, -1.2857, -1.2844],\n",
       "        [-0.0497,  0.2956,  0.6803,  ..., -1.6159, -1.5032, -1.1192],\n",
       "        ...,\n",
       "        [ 0.0243,  0.3396,  0.5452,  ..., -1.4154, -1.4924, -1.4374],\n",
       "        [ 0.7132,  0.4958,  0.2752,  ..., -1.6273, -1.6638, -1.6843],\n",
       "        [ 0.0697,  0.2590,  0.4223,  ..., -1.5004, -1.6546, -1.7803]])"
      ]
     },
     "execution_count": 301,
     "metadata": {},
     "output_type": "execute_result"
    }
   ],
   "source": [
    "f_samples"
   ]
  },
  {
   "cell_type": "code",
   "execution_count": 302,
   "id": "7dbb932c-96a9-41c8-beea-c7afbeeb1380",
   "metadata": {},
   "outputs": [
    {
     "data": {
      "image/png": "[encoded data removed]",
      "text/plain": [
       "<Figure size 1000x500 with 1 Axes>"
      ]
     },
     "metadata": {},
     "output_type": "display_data"
    }
   ],
   "source": [
    "with torch.no_grad():\n",
    "    fig = plt.figure(figsize=(10, 5))\n",
    "    ax = fig.add_subplot(111)\n",
    "    \n",
    "    mean_ls = []\n",
    "    upper_ls = []\n",
    "    lower_ls = []\n",
    "    \n",
    "    for i in range(f_mean.shape[0]):\n",
    "      mean = f_mean[i]\n",
    "      mean_ls.append(mean)\n",
    "      var = f_covar[i, i]\n",
    "      assert var == f_var[i]\n",
    "      upper_ls.append(mean + var)\n",
    "      lower_ls.append(mean - var)\n",
    "    \n",
    "    plt.plot(test_X, mean_ls)\n",
    "    plt.plot(test_X, upper_ls)\n",
    "    plt.plot(test_X, lower_ls)"
   ]
  },
  {
   "cell_type": "code",
   "execution_count": 303,
   "id": "be854cf0-3da2-4104-8389-a2821d7d69cd",
   "metadata": {},
   "outputs": [
    {
     "data": {
      "image/png": "[encoded data removed]",
      "text/plain": [
       "<Figure size 400x300 with 1 Axes>"
      ]
     },
     "metadata": {},
     "output_type": "display_data"
    }
   ],
   "source": [
    "with torch.no_grad():\n",
    "    # Initialize plot\n",
    "    f, ax = plt.subplots(1, 1, figsize=(4, 3))\n",
    "\n",
    "    test_X = test_X.squeeze(-1)\n",
    "    # Get upper and lower confidence bounds\n",
    "    lower, upper = y_preds.confidence_region()\n",
    "    # Plot training data as black stars\n",
    "    ax.plot(train_X.numpy(), train_Y.numpy(), 'k*')\n",
    "    # Plot predictive means as blue line\n",
    "    ax.plot(test_X.numpy(), y_preds.mean.numpy(), 'b')\n",
    "    # Shade between the lower and upper confidence bounds\n",
    "    ax.fill_between(test_X.numpy(), lower.numpy(), upper.numpy(), alpha=0.5)\n",
    "    ax.set_ylim([-3, 3])\n",
    "    ax.legend(['Observed Data', 'Mean', 'Confidence'])"
   ]
  },
  {
   "cell_type": "code",
   "execution_count": 304,
   "id": "017124ce-d870-4dbb-819b-e232002a00e7",
   "metadata": {},
   "outputs": [
    {
     "name": "stdout",
     "output_type": "stream",
     "text": [
      "noise_covar.raw_noise tensor([-5.5612])\n",
      "noise_covar.raw_noise_constraint.lower_bound tensor(1.0000e-04)\n",
      "noise_covar.raw_noise_constraint.upper_bound tensor(inf)\n"
     ]
    }
   ],
   "source": [
    "for name, value in likelihood.state_dict().items():\n",
    "    print(name, value)"
   ]
  },
  {
   "cell_type": "code",
   "execution_count": null,
   "id": "dd9b6b54-5db1-4420-90f5-20927b838e9f",
   "metadata": {},
   "outputs": [],
   "source": []
  },
  {
   "cell_type": "code",
   "execution_count": null,
   "id": "0311c814-1530-4187-b3b5-836a5358e508",
   "metadata": {},
   "outputs": [],
   "source": []
  }
 ],
 "metadata": {
  "kernelspec": {
   "display_name": "Python 3 (ipykernel)",
   "language": "python",
   "name": "python3"
  },
  "language_info": {
   "codemirror_mode": {
    "name": "ipython",
    "version": 3
   },
   "file_extension": ".py",
   "mimetype": "text/x-python",
   "name": "python",
   "nbconvert_exporter": "python",
   "pygments_lexer": "ipython3",
   "version": "3.10.13"
  }
 },
 "nbformat": 4,
 "nbformat_minor": 5
}
