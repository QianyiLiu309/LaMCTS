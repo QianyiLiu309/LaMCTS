{
 "cells": [
  {
   "cell_type": "code",
   "execution_count": 2,
   "id": "a06deb8c-48a3-4bac-8772-bd2bb9303b80",
   "metadata": {},
   "outputs": [],
   "source": [
    "import os\n",
    "from contextlib import contextmanager, nullcontext\n",
    "\n",
    "from ax.utils.testing.mock import fast_botorch_optimize_context_manager\n",
    "import plotly.io as pio\n",
    "\n",
    "pio.renderers.default = \"png\"\n",
    "\n",
    "SMOKE_TEST = os.environ.get(\"SMOKE_TEST\")\n",
    "NUM_EVALS = 10 if SMOKE_TEST else 30"
   ]
  },
  {
   "cell_type": "code",
   "execution_count": null,
   "id": "21452b9b-d123-4a2c-a9f9-e75e3a3e139b",
   "metadata": {},
   "outputs": [],
   "source": []
  }
 ],
 "metadata": {
  "kernelspec": {
   "display_name": "Python 3 (ipykernel)",
   "language": "python",
   "name": "python3"
  },
  "language_info": {
   "codemirror_mode": {
    "name": "ipython",
    "version": 3
   },
   "file_extension": ".py",
   "mimetype": "text/x-python",
   "name": "python",
   "nbconvert_exporter": "python",
   "pygments_lexer": "ipython3",
   "version": "3.10.13"
  }
 },
 "nbformat": 4,
 "nbformat_minor": 5
}
